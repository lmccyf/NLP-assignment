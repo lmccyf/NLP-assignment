{
 "cells": [
  {
   "cell_type": "markdown",
   "metadata": {},
   "source": [
    "## Assignment-03 First Step of Machine Learning: Model and Evaluation"
   ]
  },
  {
   "cell_type": "markdown",
   "metadata": {},
   "source": [
    "同学们，今天我们的学习了基本的机器学习概念，相比你已经对机器学习的这些方法有一个基本的认识了。值得说明的是，机器学习不仅仅是一系列方法，更重要的是一种思维体系，即：依据以往的、现有的数据，构建某种方法来解决未见过的问题。而且决策树，贝叶斯只是实现这个目标的一个方法，包括之后的神经网络。很有可能有一天，神经网络也会被淘汰，但是重要的是我们要理解机器学习的目标，就是尽可能的自动化解决未知的问题。"
   ]
  },
  {
   "cell_type": "markdown",
   "metadata": {},
   "source": [
    "![](https://timgsa.baidu.com/timg?image&quality=80&size=b9999_10000&sec=1571556399207&di=4a97dc15ad08dd49d3748d1edf6109b3&imgtype=0&src=http%3A%2F%2Fc.hiphotos.baidu.com%2Fzhidao%2Fwh%3D450%2C600%2Fsign%3Dae742c6aedcd7b89e93932873a146e91%2F5d6034a85edf8db1b16050c40223dd54574e74c7.jpg)"
   ]
  },
  {
   "cell_type": "markdown",
   "metadata": {},
   "source": [
    "## Part-1 Programming Review 编程回顾"
   ]
  },
  {
   "cell_type": "markdown",
   "metadata": {},
   "source": [
    "#### 1. Re-code the Linear-Regression Model using scikit-learning(10 points)"
   ]
  },
  {
   "cell_type": "markdown",
   "metadata": {},
   "source": [
    "<评阅点>： \n",
    "> + 是否完成线性回归模型 (4')\n",
    "+ 能够进行预测新数据(3')\n",
    "+ 能够进行可视化操作(3')"
   ]
  },
  {
   "cell_type": "code",
   "execution_count": 57,
   "metadata": {
    "scrolled": true
   },
   "outputs": [
    {
     "data": {
      "text/plain": [
       "array([[0.53205878, 0.14742746],\n",
       "       [0.95881178, 0.08665282],\n",
       "       [0.50237169, 0.59507446],\n",
       "       [0.19799102, 0.84249909],\n",
       "       [0.60645407, 0.16162259],\n",
       "       [0.79604706, 0.6509452 ],\n",
       "       [0.18792756, 0.65533349],\n",
       "       [0.09268573, 0.71483529],\n",
       "       [0.28041499, 0.31112171],\n",
       "       [0.88801873, 0.39007983],\n",
       "       [0.40549432, 0.21610464],\n",
       "       [0.77869913, 0.24147898],\n",
       "       [0.96166241, 0.25065439],\n",
       "       [0.94593721, 0.254637  ],\n",
       "       [0.68583007, 0.52163469],\n",
       "       [0.88352697, 0.19048779],\n",
       "       [0.53070713, 0.29251739],\n",
       "       [0.17475462, 0.08331902],\n",
       "       [0.76095428, 0.5436496 ],\n",
       "       [0.90176594, 0.13249941],\n",
       "       [0.10678746, 0.66874635],\n",
       "       [0.37847439, 0.36629483],\n",
       "       [0.54916329, 0.12287039],\n",
       "       [0.86236273, 0.30018295],\n",
       "       [0.40651815, 0.87316578],\n",
       "       [0.20929724, 0.9741715 ],\n",
       "       [0.87472488, 0.43696867],\n",
       "       [0.65028183, 0.50936419],\n",
       "       [0.73863274, 0.55888844],\n",
       "       [0.67221946, 0.79823434],\n",
       "       [0.77720326, 0.92156702],\n",
       "       [0.15613199, 0.97952277],\n",
       "       [0.35820338, 0.57417559],\n",
       "       [0.10714553, 0.34587027],\n",
       "       [0.58179909, 0.95916868],\n",
       "       [0.38891444, 0.12135716],\n",
       "       [0.83725703, 0.51119384],\n",
       "       [0.61687466, 0.60743526],\n",
       "       [0.49899428, 0.2487054 ],\n",
       "       [0.69751969, 0.68510438],\n",
       "       [0.58336172, 0.14440296],\n",
       "       [0.65673702, 0.2864015 ],\n",
       "       [0.69307135, 0.59983692],\n",
       "       [0.28976068, 0.71098628],\n",
       "       [0.73641729, 0.3630733 ],\n",
       "       [0.69032927, 0.62033981],\n",
       "       [0.27566978, 0.19278233],\n",
       "       [0.12759371, 0.23755406],\n",
       "       [0.08862601, 0.74024005],\n",
       "       [0.20856956, 0.72622513]])"
      ]
     },
     "execution_count": 57,
     "metadata": {},
     "output_type": "execute_result"
    }
   ],
   "source": [
    "import numpy as np\n",
    "random_data = np.random.random((50,2))\n",
    "random_data"
   ]
  },
  {
   "cell_type": "code",
   "execution_count": 2,
   "metadata": {},
   "outputs": [
    {
     "name": "stdout",
     "output_type": "stream",
     "text": [
      "[0.31167284 0.92252185 0.85038737 0.59442162 0.63144379 0.49031999\n",
      " 0.11356758 0.34527377 0.53984297 0.73677523 0.07129308 0.05652815\n",
      " 0.32737566 0.29942673 0.86575445 0.58964227 0.18905271 0.22819013\n",
      " 0.57587352 0.19561402 0.52407428 0.85600944 0.69485251 0.84996478\n",
      " 0.76867765 0.527018   0.50250097 0.09865156 0.21604011 0.47880617\n",
      " 0.55527301 0.10923875 0.94957627 0.59738145 0.50443576 0.37131956\n",
      " 0.37924897 0.38439852 0.35907875 0.01325808 0.58323449 0.9327495\n",
      " 0.46848636 0.63856163 0.35050966 0.2651454  0.71845038 0.58750052\n",
      " 0.64494667 0.99858759]\n"
     ]
    }
   ],
   "source": [
    "X = random_data[:,0]\n",
    "print (X)"
   ]
  },
  {
   "cell_type": "code",
   "execution_count": 3,
   "metadata": {},
   "outputs": [],
   "source": [
    "import random\n",
    "def creat_function(x):\n",
    "    return 14.5*x + 6 + random.randint(-6,6)"
   ]
  },
  {
   "cell_type": "code",
   "execution_count": 4,
   "metadata": {},
   "outputs": [],
   "source": [
    "y = [creat_function(x) for x in X]"
   ]
  },
  {
   "cell_type": "code",
   "execution_count": 5,
   "metadata": {},
   "outputs": [],
   "source": [
    "import matplotlib.pyplot as plt"
   ]
  },
  {
   "cell_type": "code",
   "execution_count": 6,
   "metadata": {},
   "outputs": [
    {
     "data": {
      "text/plain": [
       "<matplotlib.collections.PathCollection at 0x1d5a5b72198>"
      ]
     },
     "execution_count": 6,
     "metadata": {},
     "output_type": "execute_result"
    },
    {
     "data": {
      "image/png": "[encoded data removed]",
      "text/plain": [
       "<Figure size 432x288 with 1 Axes>"
      ]
     },
     "metadata": {
      "needs_background": "light"
     },
     "output_type": "display_data"
    }
   ],
   "source": [
    "plt.scatter(X,y)"
   ]
  },
  {
   "cell_type": "code",
   "execution_count": 7,
   "metadata": {},
   "outputs": [],
   "source": [
    "from sklearn.linear_model import LinearRegression"
   ]
  },
  {
   "cell_type": "code",
   "execution_count": 8,
   "metadata": {},
   "outputs": [],
   "source": [
    "reg = LinearRegression().fit(X.reshape(-1,1),y)"
   ]
  },
  {
   "cell_type": "code",
   "execution_count": 13,
   "metadata": {},
   "outputs": [
    {
     "data": {
      "text/plain": [
       "0.5453662034984881"
      ]
     },
     "execution_count": 13,
     "metadata": {},
     "output_type": "execute_result"
    }
   ],
   "source": [
    "reg.score(X.reshape(-1,1),y)"
   ]
  },
  {
   "cell_type": "code",
   "execution_count": 9,
   "metadata": {},
   "outputs": [
    {
     "data": {
      "text/plain": [
       "array([13.90309009])"
      ]
     },
     "execution_count": 9,
     "metadata": {},
     "output_type": "execute_result"
    }
   ],
   "source": [
    "reg.coef_"
   ]
  },
  {
   "cell_type": "code",
   "execution_count": 10,
   "metadata": {},
   "outputs": [
    {
     "data": {
      "text/plain": [
       "6.05681887893322"
      ]
     },
     "execution_count": 10,
     "metadata": {},
     "output_type": "execute_result"
    }
   ],
   "source": [
    "reg.intercept_"
   ]
  },
  {
   "cell_type": "code",
   "execution_count": 11,
   "metadata": {},
   "outputs": [],
   "source": [
    "def creat_LR(x):\n",
    "    return reg.coef_*x + reg.intercept_"
   ]
  },
  {
   "cell_type": "code",
   "execution_count": 13,
   "metadata": {},
   "outputs": [
    {
     "data": {
      "text/plain": [
       "[<matplotlib.lines.Line2D at 0x1d5a6b3d390>]"
      ]
     },
     "execution_count": 13,
     "metadata": {},
     "output_type": "execute_result"
    },
    {
     "data": {
      "image/png": "[encoded data removed]",
      "text/plain": [
       "<Figure size 432x288 with 1 Axes>"
      ]
     },
     "metadata": {
      "needs_background": "light"
     },
     "output_type": "display_data"
    }
   ],
   "source": [
    "plt.scatter(X,y)\n",
    "plt.plot(X,creat_LR(X),color = 'yellow')"
   ]
  },
  {
   "cell_type": "code",
   "execution_count": 38,
   "metadata": {},
   "outputs": [
    {
     "data": {
      "text/plain": [
       "array([8.8374369])"
      ]
     },
     "execution_count": 38,
     "metadata": {},
     "output_type": "execute_result"
    }
   ],
   "source": [
    "reg.predict([[0.2]])"
   ]
  },
  {
   "cell_type": "markdown",
   "metadata": {},
   "source": [
    "#### 2. Complete the unfinished KNN Model using pure python to solve the previous Line-Regression problem. (8 points)"
   ]
  },
  {
   "cell_type": "markdown",
   "metadata": {},
   "source": [
    "<评阅点>:\n",
    "> + 是否完成了KNN模型 (4')\n",
    "+ 是否能够预测新的数据 (4')"
   ]
  },
  {
   "cell_type": "code",
   "execution_count": 45,
   "metadata": {},
   "outputs": [],
   "source": [
    "def model (X,y):\n",
    "    return [(Xi,yi) for Xi,yi in zip(X,y)]"
   ]
  },
  {
   "cell_type": "code",
   "execution_count": 16,
   "metadata": {},
   "outputs": [],
   "source": [
    "from scipy.spatial.distance import cosine"
   ]
  },
  {
   "cell_type": "code",
   "execution_count": 54,
   "metadata": {},
   "outputs": [],
   "source": [
    "def distance (x1,x2):\n",
    "    return abs(x1-x2)"
   ]
  },
  {
   "cell_type": "code",
   "execution_count": 55,
   "metadata": {},
   "outputs": [],
   "source": [
    "def predict(x,k=5):\n",
    "    most_similar = sorted(model(X,y), key = lambda xi:distance(xi[0],x))[:k]\n",
    "    print (most_similar)\n",
    "    y_hats = [_y for x,_y in most_similar]\n",
    "   \n",
    "    return np.mean(y_hats)\n",
    "                          "
   ]
  },
  {
   "cell_type": "code",
   "execution_count": 56,
   "metadata": {},
   "outputs": [
    {
     "name": "stdout",
     "output_type": "stream",
     "text": [
      "[(0.1956140239548756, 3.836403347345696), (0.18905271176283378, 11.74126432056109), (0.21604010939842688, 4.13258158627719), (0.2281901299622522, 12.308756884452656), (0.26514539955036487, 6.844608293480292)]\n"
     ]
    },
    {
     "data": {
      "text/plain": [
       "7.772722886423385"
      ]
     },
     "execution_count": 56,
     "metadata": {},
     "output_type": "execute_result"
    }
   ],
   "source": [
    "predict(0.2)"
   ]
  },
  {
   "cell_type": "markdown",
   "metadata": {},
   "source": [
    "#### 3. Re-code the Decision Tree, which could sort the features by salience. (12 points)"
   ]
  },
  {
   "cell_type": "markdown",
   "metadata": {},
   "source": [
    "<评阅点>\n",
    "> + 是否实现了信息熵 (1' )\n",
    "+ 是否实现了最优先特征点的选择(5')\n",
    "+ 是否实现了持续的特征选则(6')"
   ]
  },
  {
   "cell_type": "code",
   "execution_count": 54,
   "metadata": {},
   "outputs": [],
   "source": [
    "from collections import Counter"
   ]
  },
  {
   "cell_type": "code",
   "execution_count": 55,
   "metadata": {},
   "outputs": [],
   "source": [
    "def entropy(element):\n",
    "    counter = Counter(element)\n",
    "    \n",
    "    prob = [counter[c]/len(element) for c in set(element)]\n",
    "    \n",
    "    print ('prob:',prob)\n",
    "    return -sum(p * np.log(p) for p in prob)"
   ]
  },
  {
   "cell_type": "code",
   "execution_count": 58,
   "metadata": {},
   "outputs": [
    {
     "name": "stdout",
     "output_type": "stream",
     "text": [
      "prob: [0.2, 0.6, 0.2]\n"
     ]
    },
    {
     "data": {
      "text/plain": [
       "0.9502705392332347"
      ]
     },
     "execution_count": 58,
     "metadata": {},
     "output_type": "execute_result"
    }
   ],
   "source": [
    "entropy([1,1,1,0,2])"
   ]
  },
  {
   "cell_type": "code",
   "execution_count": 152,
   "metadata": {},
   "outputs": [],
   "source": [
    "mock_data = {\n",
    "    'gender':['F', 'F', 'F', 'F', 'M', 'M', 'M'],\n",
    "    'income': ['+10', '-10', '+10', '+10', '+10', '+10', '-10'],\n",
    "    'family_number': [1, 1, 2, 1, 1, 1, 2],\n",
    "   # 'pet': [1, 1, 1, 0, 0, 0, 1],\n",
    "    'bought': [1, 1, 1, 0, 0, 0, 1],\n",
    "}"
   ]
  },
  {
   "cell_type": "code",
   "execution_count": 153,
   "metadata": {},
   "outputs": [],
   "source": [
    "import pandas as pd"
   ]
  },
  {
   "cell_type": "code",
   "execution_count": 154,
   "metadata": {},
   "outputs": [],
   "source": [
    "dataset = pd.DataFrame.from_dict(mock_data)"
   ]
  },
  {
   "cell_type": "code",
   "execution_count": 155,
   "metadata": {},
   "outputs": [
    {
     "data": {
      "text/html": [
       "<div>\n",
       "<style scoped>\n",
       "    .dataframe tbody tr th:only-of-type {\n",
       "        vertical-align: middle;\n",
       "    }\n",
       "\n",
       "    .dataframe tbody tr th {\n",
       "        vertical-align: top;\n",
       "    }\n",
       "\n",
       "    .dataframe thead th {\n",
       "        text-align: right;\n",
       "    }\n",
       "</style>\n",
       "<table border=\"1\" class=\"dataframe\">\n",
       "  <thead>\n",
       "    <tr style=\"text-align: right;\">\n",
       "      <th></th>\n",
       "      <th>gender</th>\n",
       "      <th>income</th>\n",
       "      <th>family_number</th>\n",
       "      <th>bought</th>\n",
       "    </tr>\n",
       "  </thead>\n",
       "  <tbody>\n",
       "    <tr>\n",
       "      <th>0</th>\n",
       "      <td>F</td>\n",
       "      <td>+10</td>\n",
       "      <td>1</td>\n",
       "      <td>1</td>\n",
       "    </tr>\n",
       "    <tr>\n",
       "      <th>1</th>\n",
       "      <td>F</td>\n",
       "      <td>-10</td>\n",
       "      <td>1</td>\n",
       "      <td>1</td>\n",
       "    </tr>\n",
       "    <tr>\n",
       "      <th>2</th>\n",
       "      <td>F</td>\n",
       "      <td>+10</td>\n",
       "      <td>2</td>\n",
       "      <td>1</td>\n",
       "    </tr>\n",
       "    <tr>\n",
       "      <th>3</th>\n",
       "      <td>F</td>\n",
       "      <td>+10</td>\n",
       "      <td>1</td>\n",
       "      <td>0</td>\n",
       "    </tr>\n",
       "    <tr>\n",
       "      <th>4</th>\n",
       "      <td>M</td>\n",
       "      <td>+10</td>\n",
       "      <td>1</td>\n",
       "      <td>0</td>\n",
       "    </tr>\n",
       "    <tr>\n",
       "      <th>5</th>\n",
       "      <td>M</td>\n",
       "      <td>+10</td>\n",
       "      <td>1</td>\n",
       "      <td>0</td>\n",
       "    </tr>\n",
       "    <tr>\n",
       "      <th>6</th>\n",
       "      <td>M</td>\n",
       "      <td>-10</td>\n",
       "      <td>2</td>\n",
       "      <td>1</td>\n",
       "    </tr>\n",
       "  </tbody>\n",
       "</table>\n",
       "</div>"
      ],
      "text/plain": [
       "  gender income  family_number  bought\n",
       "0      F    +10              1       1\n",
       "1      F    -10              1       1\n",
       "2      F    +10              2       1\n",
       "3      F    +10              1       0\n",
       "4      M    +10              1       0\n",
       "5      M    +10              1       0\n",
       "6      M    -10              2       1"
      ]
     },
     "execution_count": 155,
     "metadata": {},
     "output_type": "execute_result"
    }
   ],
   "source": [
    "dataset"
   ]
  },
  {
   "cell_type": "code",
   "execution_count": 63,
   "metadata": {},
   "outputs": [
    {
     "name": "stdout",
     "output_type": "stream",
     "text": [
      "prob: [0.25, 0.75]\n",
      "prob: [0.6666666666666666, 0.3333333333333333]\n",
      "1.198849312913621\n",
      "prob: [0.6, 0.4]\n",
      "prob: [1.0]\n",
      "0.6730116670092565\n",
      "prob: [0.6, 0.4]\n",
      "prob: [1.0]\n",
      "0.6730116670092565\n"
     ]
    }
   ],
   "source": [
    "#split_by_gender\n",
    "print(entropy([1,1,1,0])+entropy([0,0,1]))\n",
    "\n",
    "#split_by_income\n",
    "print(entropy([1,1,0,0,0])+entropy([1,1]))\n",
    "\n",
    "#split_by_family_member\n",
    "print(entropy([1,1,0,0,0])+entropy([1,1]))"
   ]
  },
  {
   "cell_type": "markdown",
   "metadata": {},
   "source": [
    "#### income和family_number熵最小，选income作为root node，因为-10的一定会买，只分析+10情况"
   ]
  },
  {
   "cell_type": "code",
   "execution_count": 64,
   "metadata": {},
   "outputs": [
    {
     "data": {
      "text/html": [
       "<div>\n",
       "<style scoped>\n",
       "    .dataframe tbody tr th:only-of-type {\n",
       "        vertical-align: middle;\n",
       "    }\n",
       "\n",
       "    .dataframe tbody tr th {\n",
       "        vertical-align: top;\n",
       "    }\n",
       "\n",
       "    .dataframe thead th {\n",
       "        text-align: right;\n",
       "    }\n",
       "</style>\n",
       "<table border=\"1\" class=\"dataframe\">\n",
       "  <thead>\n",
       "    <tr style=\"text-align: right;\">\n",
       "      <th></th>\n",
       "      <th>gender</th>\n",
       "      <th>income</th>\n",
       "      <th>family_number</th>\n",
       "      <th>bought</th>\n",
       "    </tr>\n",
       "  </thead>\n",
       "  <tbody>\n",
       "    <tr>\n",
       "      <th>0</th>\n",
       "      <td>F</td>\n",
       "      <td>+10</td>\n",
       "      <td>1</td>\n",
       "      <td>1</td>\n",
       "    </tr>\n",
       "    <tr>\n",
       "      <th>2</th>\n",
       "      <td>F</td>\n",
       "      <td>+10</td>\n",
       "      <td>2</td>\n",
       "      <td>1</td>\n",
       "    </tr>\n",
       "    <tr>\n",
       "      <th>3</th>\n",
       "      <td>F</td>\n",
       "      <td>+10</td>\n",
       "      <td>1</td>\n",
       "      <td>0</td>\n",
       "    </tr>\n",
       "    <tr>\n",
       "      <th>4</th>\n",
       "      <td>M</td>\n",
       "      <td>+10</td>\n",
       "      <td>1</td>\n",
       "      <td>0</td>\n",
       "    </tr>\n",
       "    <tr>\n",
       "      <th>5</th>\n",
       "      <td>M</td>\n",
       "      <td>+10</td>\n",
       "      <td>1</td>\n",
       "      <td>0</td>\n",
       "    </tr>\n",
       "  </tbody>\n",
       "</table>\n",
       "</div>"
      ],
      "text/plain": [
       "  gender income  family_number  bought\n",
       "0      F    +10              1       1\n",
       "2      F    +10              2       1\n",
       "3      F    +10              1       0\n",
       "4      M    +10              1       0\n",
       "5      M    +10              1       0"
      ]
     },
     "execution_count": 64,
     "metadata": {},
     "output_type": "execute_result"
    }
   ],
   "source": [
    "sub1_split_by_income=dataset[dataset['income']=='+10']\n",
    "sub1_split_by_income"
   ]
  },
  {
   "cell_type": "code",
   "execution_count": 65,
   "metadata": {},
   "outputs": [
    {
     "name": "stdout",
     "output_type": "stream",
     "text": [
      "prob: [0.3333333333333333, 0.6666666666666666]\n",
      "prob: [1.0]\n",
      "0.6365141682948128\n",
      "prob: [0.75, 0.25]\n",
      "prob: [1.0]\n",
      "0.5623351446188083\n"
     ]
    }
   ],
   "source": [
    "#已知income为-10时，一定会买，所以分析为+10的情况  sub2_split_by_gender\n",
    "\n",
    "#gender\n",
    "print (entropy([1,1,0])+entropy([0,0]))\n",
    "\n",
    "#family_number\n",
    "print(entropy([1,0,0,0])+entropy([1]))"
   ]
  },
  {
   "cell_type": "markdown",
   "metadata": {},
   "source": [
    "#### 因为family_member的熵小，选它为第二个。当family_number为2时，一定会买，所以在1的情况下，女性有一半的概率会买，男性一定不会买"
   ]
  },
  {
   "cell_type": "code",
   "execution_count": 149,
   "metadata": {},
   "outputs": [],
   "source": [
    "def find_optimal_spilter(training_data:pd.DataFrame,target:str)-> str:\n",
    "    x_fields = set(training_data.columns.tolist()) - {target}\n",
    "    #print(list(x_fields))\n",
    "    n = []\n",
    "    \n",
    "    spliter = None\n",
    "    min_entropy = float('inf')\n",
    "    for f in x_fields:\n",
    "        #print('f:',f)\n",
    "        value = set(training_data[f])\n",
    "       # print ('value:',value)\n",
    "        for v in value:\n",
    "            sub_spliter_1 = training_data[training_data[f] == v][target].tolist()\n",
    "         #   print('sub_spliter_1:',sub_spliter_1)\n",
    "            entropy_1 = entropy(sub_spliter_1)\n",
    "         #   print (entropy_1)\n",
    "            \n",
    "            sub_spliter_2 = training_data[training_data[f] != v][target].tolist()\n",
    "         #   print('sub_spliter_2:',sub_spliter_2)\n",
    "            entropy_2 = entropy(sub_spliter_2)\n",
    "         #   print(entropy_2)\n",
    "            entropy_s = entropy_1 + entropy_2\n",
    "         #   print ('entropy_s:',entropy_s)\n",
    "            \n",
    "            if entropy_s < min_entropy:\n",
    "                min_entropy = entropy_s\n",
    "                spliter = (f, v)\n",
    "    print('spliter is: {}'.format(spliter))\n",
    "    print('the min entropy is: {}'.format(min_entropy))\n",
    "    \n",
    "    '''n.add(spliter)\n",
    "    while n:\n",
    "\n",
    "        s = spliter[0]\n",
    "        v = spliter[1]\n",
    "        data = training_data[training_data[s] == v]\n",
    "        find_optimal_spilter(data,'bought')\n",
    "        for e in spliter:\n",
    "            if e == spliter:\n",
    "                return n'''\n",
    "    return spliter[0]"
   ]
  },
  {
   "cell_type": "code",
   "execution_count": 148,
   "metadata": {},
   "outputs": [
    {
     "name": "stdout",
     "output_type": "stream",
     "text": [
      "['income', 'gender', 'family_number']\n",
      "prob: [0.6, 0.4]\n",
      "prob: [1.0]\n",
      "prob: [1.0]\n",
      "prob: [0.6, 0.4]\n",
      "prob: [0.25, 0.75]\n",
      "prob: [0.6666666666666666, 0.3333333333333333]\n",
      "prob: [0.6666666666666666, 0.3333333333333333]\n",
      "prob: [0.25, 0.75]\n",
      "prob: [0.6, 0.4]\n",
      "prob: [1.0]\n",
      "prob: [1.0]\n",
      "prob: [0.6, 0.4]\n",
      "spliter is: ('income', '+10')\n",
      "the min entropy is: 0.6730116670092565\n"
     ]
    },
    {
     "data": {
      "text/plain": [
       "'income'"
      ]
     },
     "execution_count": 148,
     "metadata": {},
     "output_type": "execute_result"
    }
   ],
   "source": [
    "find_optimal_spilter(dataset,'bought')"
   ]
  },
  {
   "cell_type": "code",
   "execution_count": 72,
   "metadata": {},
   "outputs": [
    {
     "name": "stdout",
     "output_type": "stream",
     "text": [
      "prob: [0.75, 0.25]\n",
      "prob: [1.0]\n",
      "prob: [1.0]\n",
      "prob: [0.75, 0.25]\n",
      "prob: [0.3333333333333333, 0.6666666666666666]\n",
      "prob: [1.0]\n",
      "prob: [1.0]\n",
      "prob: [0.3333333333333333, 0.6666666666666666]\n",
      "prob: [0.6, 0.4]\n",
      "prob: []\n",
      "spliter is: ('income', '+10')\n",
      "the min entropy is: 0.5623351446188083\n"
     ]
    }
   ],
   "source": [
    "find_optimal_spilter(dataset[dataset['family_number'] == 1], 'bought')"
   ]
  },
  {
   "cell_type": "code",
   "execution_count": 73,
   "metadata": {},
   "outputs": [],
   "source": [
    "fm_n_1 = dataset[dataset['family_number'] == 1]"
   ]
  },
  {
   "cell_type": "code",
   "execution_count": 74,
   "metadata": {},
   "outputs": [
    {
     "name": "stdout",
     "output_type": "stream",
     "text": [
      "prob: [0.75, 0.25]\n",
      "prob: []\n",
      "prob: [0.5, 0.5]\n",
      "prob: [1.0]\n",
      "prob: [1.0]\n",
      "prob: [0.5, 0.5]\n",
      "prob: [0.75, 0.25]\n",
      "prob: []\n",
      "spliter is: ('income', '+10')\n",
      "the min entropy is: 0.5623351446188083\n"
     ]
    }
   ],
   "source": [
    "find_optimal_spilter(fm_n_1[fm_n_1['income'] == '+10'], 'bought')"
   ]
  },
  {
   "cell_type": "markdown",
   "metadata": {},
   "source": [
    "#### 4. Finish the K-Means using 2-D matplotlib (8 points)"
   ]
  },
  {
   "cell_type": "markdown",
   "metadata": {},
   "source": [
    "<评阅点>\n",
    "> + 是否完成了KMeans模型，基于scikit-learning (3')\n",
    "+ 是否完成了可视化任务（5'）"
   ]
  },
  {
   "cell_type": "code",
   "execution_count": 166,
   "metadata": {},
   "outputs": [],
   "source": [
    "from sklearn.cluster import KMeans"
   ]
  },
  {
   "cell_type": "code",
   "execution_count": 168,
   "metadata": {},
   "outputs": [
    {
     "name": "stdout",
     "output_type": "stream",
     "text": [
      "X1: [17, 61, 30, 28, 77, 54, 29, 95, 78, 40, 17, 70, 91, 26, 55, 89, 23, 1, 10, 24, 5, 65, 51, 77, 14, 100, 97, 98, 32, 29, 53, 56, 76, 60, 48, 51, 48, 35, 51, 56, 33, 14, 100, 38, 66, 89, 51, 70, 88, 1, 87, 33, 55, 5, 67, 49, 36, 51, 49, 8, 11, 43, 16, 9, 23, 85, 79, 59, 49, 80, 52, 55, 53, 90, 88, 100, 4, 85, 40, 52, 9, 23, 80, 96, 10, 2, 26, 97, 28, 98, 99, 11, 1, 60, 68, 29, 86, 22, 59, 70]\n"
     ]
    }
   ],
   "source": [
    "X1 = [random.randint(0, 100) for _ in range(100)]\n",
    "X2 = [random.randint(0, 100) for _ in range(100)]"
   ]
  },
  {
   "cell_type": "code",
   "execution_count": 169,
   "metadata": {},
   "outputs": [
    {
     "data": {
      "text/plain": [
       "<matplotlib.collections.PathCollection at 0x1d5a8c700f0>"
      ]
     },
     "execution_count": 169,
     "metadata": {},
     "output_type": "execute_result"
    },
    {
     "data": {
      "image/png": "[encoded data removed]",
      "text/plain": [
       "<Figure size 432x288 with 1 Axes>"
      ]
     },
     "metadata": {
      "needs_background": "light"
     },
     "output_type": "display_data"
    }
   ],
   "source": [
    "plt.scatter(X1, X2)"
   ]
  },
  {
   "cell_type": "code",
   "execution_count": 170,
   "metadata": {},
   "outputs": [],
   "source": [
    "training_data = [(x1,x2) for x1,x2 in zip(X1,X2)]"
   ]
  },
  {
   "cell_type": "code",
   "execution_count": 171,
   "metadata": {},
   "outputs": [],
   "source": [
    "cluster = KMeans(n_clusters=6, max_iter=500)"
   ]
  },
  {
   "cell_type": "code",
   "execution_count": 172,
   "metadata": {},
   "outputs": [
    {
     "data": {
      "text/plain": [
       "KMeans(algorithm='auto', copy_x=True, init='k-means++', max_iter=500,\n",
       "    n_clusters=6, n_init=10, n_jobs=1, precompute_distances='auto',\n",
       "    random_state=None, tol=0.0001, verbose=0)"
      ]
     },
     "execution_count": 172,
     "metadata": {},
     "output_type": "execute_result"
    }
   ],
   "source": [
    "cluster.fit(training_data)"
   ]
  },
  {
   "cell_type": "code",
   "execution_count": 173,
   "metadata": {},
   "outputs": [
    {
     "data": {
      "text/plain": [
       "array([[90.58333333, 83.        ],\n",
       "       [15.83333333, 32.27777778],\n",
       "       [52.6       , 15.4       ],\n",
       "       [53.16666667, 57.83333333],\n",
       "       [85.58823529, 27.64705882],\n",
       "       [24.05      , 84.25      ]])"
      ]
     },
     "execution_count": 173,
     "metadata": {},
     "output_type": "execute_result"
    }
   ],
   "source": [
    "cluster.cluster_centers_"
   ]
  },
  {
   "cell_type": "code",
   "execution_count": 174,
   "metadata": {},
   "outputs": [
    {
     "data": {
      "text/plain": [
       "array([5, 2, 5, 3, 4, 2, 2, 0, 0, 5, 1, 2, 4, 1, 3, 0, 5, 1, 5, 5, 1, 3,\n",
       "       3, 4, 5, 0, 0, 4, 5, 1, 3, 3, 0, 3, 2, 3, 3, 5, 3, 3, 1, 1, 4, 3,\n",
       "       3, 4, 3, 4, 4, 5, 0, 1, 2, 1, 4, 2, 5, 2, 5, 1, 1, 2, 5, 1, 1, 0,\n",
       "       4, 2, 5, 4, 3, 3, 3, 4, 4, 4, 5, 4, 5, 2, 1, 1, 4, 4, 1, 5, 5, 0,\n",
       "       1, 0, 0, 5, 1, 2, 3, 2, 0, 5, 2, 2])"
      ]
     },
     "execution_count": 174,
     "metadata": {},
     "output_type": "execute_result"
    }
   ],
   "source": [
    "cluster.labels_"
   ]
  },
  {
   "cell_type": "code",
   "execution_count": 175,
   "metadata": {},
   "outputs": [],
   "source": [
    "from collections import defaultdict"
   ]
  },
  {
   "cell_type": "code",
   "execution_count": 176,
   "metadata": {},
   "outputs": [],
   "source": [
    "centers = defaultdict(list)"
   ]
  },
  {
   "cell_type": "code",
   "execution_count": 178,
   "metadata": {},
   "outputs": [],
   "source": [
    "for label, location in zip(cluster.labels_, training_data):\n",
    "    centers[label].append(location)"
   ]
  },
  {
   "cell_type": "code",
   "execution_count": 179,
   "metadata": {},
   "outputs": [
    {
     "data": {
      "image/png": "[encoded data removed]",
      "text/plain": [
       "<Figure size 432x288 with 1 Axes>"
      ]
     },
     "metadata": {
      "needs_background": "light"
     },
     "output_type": "display_data"
    }
   ],
   "source": [
    "color = ['red', 'green', 'grey', 'black', 'yellow', 'orange']\n",
    "\n",
    "for i, c in enumerate(centers):\n",
    "    for location in centers[c]:\n",
    "        plt.scatter(*location, c=color[i])\n",
    "        \n",
    "for center in cluster.cluster_centers_:\n",
    "    plt.scatter(*center, s=100)"
   ]
  },
  {
   "cell_type": "markdown",
   "metadata": {},
   "source": [
    "## Part-2 Question and Answer 问答"
   ]
  },
  {
   "cell_type": "markdown",
   "metadata": {},
   "source": [
    "#### 1. What's the *model*? why  all the models are wrong, but some are useful? (5 points) "
   ]
  },
  {
   "cell_type": "markdown",
   "metadata": {},
   "source": [
    "Ans:1.什么是模型：明确需要达到的目标，收集数据并且找到一些features，根据features来选择一种方法达到目标，这个方法就是模型。\n",
    "   2.因为在一个模型中牵扯到的因素有很多，很多features都是隐形，进而导致我们看到的是片面的，但是可以抓取主要特征来进行模拟并不断修改模型。"
   ]
  },
  {
   "cell_type": "markdown",
   "metadata": {},
   "source": [
    "<评阅点>\n",
    "> + 对模型的理解是否正确,对模型的抽象性是否正确(5')"
   ]
  },
  {
   "cell_type": "markdown",
   "metadata": {},
   "source": [
    "#### 2. What's the underfitting and overfitting? List the reasons that could make model overfitting or underfitting. (10 points)"
   ]
  },
  {
   "cell_type": "markdown",
   "metadata": {},
   "source": [
    "Ans:过拟合模型表现为在训练集上具有高方差和低偏差，这会导致对新测试数据预测时与训练数据的不一致；欠拟合模型表现为低方差和高偏差，是一个不合适的模型忽略了训练数据的教训，并且无法学习输入和输出之间的潜在关系。\n",
    "如果模型无法将训练集的误差降到较低水平，就会发生欠拟合；如果模型无法缩小训练误差和和测试误差之间的差距，就会发生过拟合"
   ]
  },
  {
   "cell_type": "markdown",
   "metadata": {},
   "source": [
    "<评阅点>\n",
    "> + 对过拟合和欠拟合的理解是否正确 (3')\n",
    "+ 对欠拟合产生的原因是否理解正确(2')\n",
    "+ 对过拟合产生的原因是否理解正确(5')"
   ]
  },
  {
   "cell_type": "markdown",
   "metadata": {},
   "source": [
    "#### 3. What's the precision, recall, AUC, F1, F2score. What are they mainly target on? (12')"
   ]
  },
  {
   "cell_type": "markdown",
   "metadata": {},
   "source": [
    "Ans:Precision：精确率是针对预测结果而言的，它表示的是预测为正的样本中有多少是真正的正样本。\n",
    "   recall：召回率是针对原来的样本而言的，它表示的是样本中的正例有多少被预测正确了。\n",
    "   AUC：AUC全称Area Under roc Curve，是ROC曲线下的面积。ROC曲线是一条在二维平面上的曲线，横坐标是false positive rate，纵坐标是true positive       rate，ROC curve来表示分类器，可以用一个数值来表示分类器的好坏，即AUC，它是ROC曲线下面的面积。\n",
    "   F1score：兼顾了精确率和召回率，是模型精确率和召回率的一种加权平均\n",
    "   F2score：F-Score综合考虑Precision和Recall的调和值，当β=1是即F1score，这时召回率和精确率都很重要，权重相同。F2score表示召回率更加重要，此          时调整 β的值大于1"
   ]
  },
  {
   "cell_type": "markdown",
   "metadata": {},
   "source": [
    "<评阅点>\n",
    "> + 对precision, recall, AUC, F1, F2 理解是否正确(6‘)\n",
    "+ 对precision, recall, AUC, F1, F2的使用侧重点是否理解正确 (6’)"
   ]
  },
  {
   "cell_type": "markdown",
   "metadata": {},
   "source": [
    "#### 4. Based on our course and yourself mind, what's the machine learning?  (8')"
   ]
  },
  {
   "cell_type": "markdown",
   "metadata": {},
   "source": [
    "Ans:机器学习：利用历史数据构建模型框架，随即将大量数据留给机器去学习，通过不断的修改和优化参数进而得到预期目标数据。\n",
    "   传统编程：对于任何解决方案，第一个任务是创建最合适的算法并编写代码。之后必须设置输入参数，如果实现的算法没问题，将会产生预期的结果。"
   ]
  },
  {
   "cell_type": "markdown",
   "metadata": {},
   "source": [
    "<评阅点> 开放式问题，是否能说出来机器学习这种思维方式和传统的分析式编程的区别（8'）"
   ]
  },
  {
   "cell_type": "markdown",
   "metadata": {},
   "source": [
    "#### 5. \"正确定义了机器学习模型的评价标准(evaluation)， 问题基本上就已经解决一半\". 这句话是否正确？你是怎么看待的？ (8‘)"
   ]
  },
  {
   "cell_type": "markdown",
   "metadata": {},
   "source": [
    "Ans: 评估指标能体现模型的运转情况，我们可以根据评估指标得到反馈，不断改进优化，直至达到理想的准确度。我们在构建一个机器学习模型时，\n",
    "     期望使用在样本数据之外的数据也可以达到高准确度，所以找到正确定义模型的评价标准来提高模型预测的准确度是至关重要的。"
   ]
  },
  {
   "cell_type": "markdown",
   "metadata": {},
   "source": [
    "<评阅点> 开放式问题，主要看能理解评价指标对机器学习模型的重要性."
   ]
  },
  {
   "cell_type": "markdown",
   "metadata": {},
   "source": [
    "## Part-03 Programming Practice 编程练习"
   ]
  },
  {
   "cell_type": "markdown",
   "metadata": {},
   "source": [
    "1. In our course and previous practice, we complete some importance components of Decision Tree. In this problem, you need to build a **completed** Decision Tree Model. You show finish a `predicate()` function, which accepts three parameters **<gender, income, family_number>**, and outputs the predicated 'bought': 1 or 0.  (20 points)"
   ]
  },
  {
   "cell_type": "markdown",
   "metadata": {},
   "source": [
    "##### 欠缺构造二叉树知识，因为时间问题只在已知决策树结构的情况下用简单的 if语句实现预测，后续会参照优秀作业修改"
   ]
  },
  {
   "cell_type": "code",
   "execution_count": 91,
   "metadata": {},
   "outputs": [],
   "source": [
    "import random\n",
    "\n",
    "def single_prob(p):\n",
    "\n",
    "    if random.random() < p:\n",
    "\n",
    "        return 0\n",
    "\n",
    "    return 1"
   ]
  },
  {
   "cell_type": "code",
   "execution_count": 164,
   "metadata": {},
   "outputs": [],
   "source": [
    "def predict_by_dicissiontree(G,I,F):\n",
    "    if int(F) == 2:\n",
    "        print ('bought:',1)\n",
    "        return\n",
    "    else:\n",
    "        if int(I) <10:\n",
    "            print ('bought:',1)\n",
    "            return\n",
    "        else:\n",
    "            if G == 'M':\n",
    "                print ('bought:',0)\n",
    "                return\n",
    "            else: \n",
    "                print (single_prob(0.5))\n",
    "                return"
   ]
  },
  {
   "cell_type": "code",
   "execution_count": 160,
   "metadata": {},
   "outputs": [
    {
     "name": "stdout",
     "output_type": "stream",
     "text": [
      "gender:M\n",
      "income:15\n",
      "family_number:1\n"
     ]
    }
   ],
   "source": [
    "gender = input('gender:')\n",
    "income = input('income:')\n",
    "family_number = input('family_number:')"
   ]
  },
  {
   "cell_type": "code",
   "execution_count": 165,
   "metadata": {},
   "outputs": [
    {
     "name": "stdout",
     "output_type": "stream",
     "text": [
      "bought: 0\n"
     ]
    }
   ],
   "source": [
    "predict_by_dicissiontree(gender, income, family_number)"
   ]
  },
  {
   "cell_type": "markdown",
   "metadata": {},
   "source": [
    "<评阅点>\n",
    "> + 是否将之前的决策树模型的部分进行合并组装， predicate函数能够顺利运行(8')\n",
    "+ 是够能够输入未曾见过的X变量，例如gender, income, family_number 分别是： <M, -10, 1>, 模型能够预测出结果 (12')"
   ]
  },
  {
   "cell_type": "markdown",
   "metadata": {},
   "source": [
    "2. 将上一节课(第二节课)的线性回归问题中的Loss函数改成\"绝对值\"，并且改变其偏导的求值方式，观察其结果的变化。(19 point)"
   ]
  },
  {
   "cell_type": "code",
   "execution_count": 2,
   "metadata": {},
   "outputs": [],
   "source": [
    "from sklearn.datasets import load_boston\n",
    "import random"
   ]
  },
  {
   "cell_type": "code",
   "execution_count": 3,
   "metadata": {},
   "outputs": [],
   "source": [
    "dataset = load_boston()"
   ]
  },
  {
   "cell_type": "code",
   "execution_count": 4,
   "metadata": {},
   "outputs": [],
   "source": [
    "x,y=dataset['data'],dataset['target']"
   ]
  },
  {
   "cell_type": "code",
   "execution_count": 5,
   "metadata": {},
   "outputs": [
    {
     "data": {
      "text/plain": [
       "(506, 13)"
      ]
     },
     "execution_count": 5,
     "metadata": {},
     "output_type": "execute_result"
    }
   ],
   "source": [
    "x.shape"
   ]
  },
  {
   "cell_type": "code",
   "execution_count": 6,
   "metadata": {},
   "outputs": [
    {
     "data": {
      "text/plain": [
       "(506,)"
      ]
     },
     "execution_count": 6,
     "metadata": {},
     "output_type": "execute_result"
    }
   ],
   "source": [
    "y.shape"
   ]
  },
  {
   "cell_type": "code",
   "execution_count": 7,
   "metadata": {},
   "outputs": [
    {
     "data": {
      "text/plain": [
       "(506,)"
      ]
     },
     "execution_count": 7,
     "metadata": {},
     "output_type": "execute_result"
    }
   ],
   "source": [
    "X_rm = x[:,5]\n",
    "X_rm.shape"
   ]
  },
  {
   "cell_type": "code",
   "execution_count": 9,
   "metadata": {},
   "outputs": [
    {
     "data": {
      "text/plain": [
       "<matplotlib.collections.PathCollection at 0x2946ee002e8>"
      ]
     },
     "execution_count": 9,
     "metadata": {},
     "output_type": "execute_result"
    },
    {
     "data": {
      "image/png": "[encoded data removed]",
      "text/plain": [
       "<Figure size 432x288 with 1 Axes>"
      ]
     },
     "metadata": {
      "needs_background": "light"
     },
     "output_type": "display_data"
    }
   ],
   "source": [
    "# plot the RM with respect to y\n",
    "import matplotlib.pyplot as plt\n",
    "plt.scatter(X_rm,y)"
   ]
  },
  {
   "cell_type": "code",
   "execution_count": 10,
   "metadata": {},
   "outputs": [],
   "source": [
    "#define target function\n",
    "def price(rm, k, b):\n",
    "    return k * rm + b"
   ]
  },
  {
   "cell_type": "code",
   "execution_count": 11,
   "metadata": {},
   "outputs": [],
   "source": [
    "# define loss function \n",
    "def loss(y,y_hat):\n",
    "    return sum(abs(y_i - y_hat_i) for y_i, y_hat_i in zip(list(y),list(y_hat)))/len(list(y))"
   ]
  },
  {
   "cell_type": "code",
   "execution_count": 21,
   "metadata": {},
   "outputs": [],
   "source": [
    "# define partial derivative \n",
    "\n",
    "def partial_derivative_k(x,y, y_hat): \n",
    "    n = len(y)\n",
    "    gradient = 0\n",
    "    for x_i,y_i, y_hat_i in zip(list(x),list(y),list(y_hat)):\n",
    "        if y_i>y_hat_i:\n",
    "            gradient+=x_i\n",
    "        if y_i<y_hat_i:\n",
    "            gradient-=x_i\n",
    "    \n",
    "    return 1/n * gradient\n",
    "\n",
    "def partial_derivative_b(y, y_hat):\n",
    "    n = len(y)\n",
    "    gradient = 0\n",
    "    for y_i, y_hat_i in zip(list(y),list(y_hat)):\n",
    "        if y_i > y_hat_i:\n",
    "            c = -1/n\n",
    "   \n",
    "        if y_i < y_hat_i:\n",
    "            c = 1/n\n",
    "    return c"
   ]
  },
  {
   "cell_type": "markdown",
   "metadata": {},
   "source": [
    "#### Q：请问初始参数k, b的大小会对结果产生什么影响呢"
   ]
  },
  {
   "cell_type": "code",
   "execution_count": 48,
   "metadata": {},
   "outputs": [
    {
     "name": "stdout",
     "output_type": "stream",
     "text": [
      "Iteration 0, the loss is 15.491296237817131, parameters k is 6.9639940926944774 and b is -36.68233024436761\n",
      "Iteration 1, the loss is 13.267716433447022, parameters k is 7.331080614433608 and b is -36.68244882144271\n",
      "Iteration 2, the loss is 11.195354995617848, parameters k is 7.690415515619379 and b is -36.68256739851781\n",
      "Iteration 3, the loss is 9.430521661086821, parameters k is 8.021198005737956 and b is -36.68268597559291\n",
      "Iteration 4, the loss is 7.892806889006278, parameters k is 8.335383499809103 and b is -36.68280455266801\n",
      "Iteration 5, the loss is 6.6973319630239025, parameters k is 8.610251681627284 and b is -36.68268597559291\n",
      "Iteration 6, the loss is 5.738946186708055, parameters k is 8.858726978069972 and b is -36.68256739851781\n",
      "Iteration 7, the loss is 5.052534500884049, parameters k is 9.06941460652847 and b is -36.68244882144271\n",
      "Iteration 8, the loss is 4.621015555316889, parameters k is 9.24538689901859 and b is -36.68233024436761\n",
      "Iteration 9, the loss is 4.472399238586698, parameters k is 9.353488519571949 and b is -36.68221166729251\n",
      "Iteration 10, the loss is 4.446246105142208, parameters k is 9.403573934591712 and b is -36.682093090217414\n",
      "Iteration 11, the loss is 4.439538262137343, parameters k is 9.424976503761673 and b is -36.681974513142315\n",
      "Iteration 12, the loss is 4.437907424666081, parameters k is 9.435536385184598 and b is -36.681855936067215\n",
      "Iteration 13, the loss is 4.437308128489964, parameters k is 9.443328440520567 and b is -36.681737358992116\n",
      "Iteration 14, the loss is 4.437282509391912, parameters k is 9.44562990297116 and b is -36.68161878191702\n",
      "Iteration 15, the loss is 4.4373075095059145, parameters k is 9.44332014012531 and b is -36.68150020484192\n",
      "Iteration 16, the loss is 4.437284064595868, parameters k is 9.445621602575903 and b is -36.68138162776682\n",
      "Iteration 17, the loss is 4.437306890521861, parameters k is 9.443311839730054 and b is -36.68126305069172\n",
      "Iteration 18, the loss is 4.437285619799821, parameters k is 9.445613302180647 and b is -36.68114447361662\n",
      "Iteration 19, the loss is 4.43730627153781, parameters k is 9.443303539334797 and b is -36.68102589654152\n",
      "Iteration 20, the loss is 4.437287175003777, parameters k is 9.44560500178539 and b is -36.68090731946642\n",
      "Iteration 21, the loss is 4.437305652553763, parameters k is 9.443295238939541 and b is -36.68078874239132\n",
      "Iteration 22, the loss is 4.4372887302077375, parameters k is 9.445596701390134 and b is -36.68067016531622\n",
      "Iteration 23, the loss is 4.437305033569715, parameters k is 9.443286938544285 and b is -36.68055158824112\n",
      "Iteration 24, the loss is 4.437290285411685, parameters k is 9.445588400994877 and b is -36.68043301116602\n",
      "Iteration 25, the loss is 4.437304414585669, parameters k is 9.443278638149028 and b is -36.680314434090924\n",
      "Iteration 26, the loss is 4.437291840615646, parameters k is 9.44558010059962 and b is -36.680195857015825\n",
      "Iteration 27, the loss is 4.43730379560162, parameters k is 9.443270337753772 and b is -36.680077279940726\n",
      "Iteration 28, the loss is 4.4372933958196015, parameters k is 9.445571800204364 and b is -36.679958702865626\n",
      "Iteration 29, the loss is 4.437303176617569, parameters k is 9.443262037358515 and b is -36.67984012579053\n",
      "Iteration 30, the loss is 4.437294951023557, parameters k is 9.445563499809108 and b is -36.67972154871543\n",
      "Iteration 31, the loss is 4.437302557633522, parameters k is 9.443253736963259 and b is -36.67960297164033\n",
      "Iteration 32, the loss is 4.437296506227517, parameters k is 9.445555199413851 and b is -36.67948439456523\n",
      "Iteration 33, the loss is 4.43730193864947, parameters k is 9.443245436568002 and b is -36.67936581749013\n",
      "Iteration 34, the loss is 4.437298061431472, parameters k is 9.445546899018595 and b is -36.67924724041503\n",
      "Iteration 35, the loss is 4.437301319665422, parameters k is 9.443237136172746 and b is -36.67912866333993\n",
      "Iteration 36, the loss is 4.43729961663542, parameters k is 9.445538598623338 and b is -36.67901008626483\n",
      "Iteration 37, the loss is 4.437300700681373, parameters k is 9.44322883577749 and b is -36.67889150918973\n",
      "Iteration 38, the loss is 4.437301171839378, parameters k is 9.445530298228082 and b is -36.67877293211463\n",
      "Iteration 39, the loss is 4.437300081697319, parameters k is 9.443220535382233 and b is -36.678654355039534\n",
      "Iteration 40, the loss is 4.437302727043338, parameters k is 9.445521997832826 and b is -36.678535777964434\n",
      "Iteration 41, the loss is 4.4372994627132725, parameters k is 9.443212234986976 and b is -36.678417200889335\n",
      "Iteration 42, the loss is 4.437304282247292, parameters k is 9.445513697437569 and b is -36.678298623814236\n",
      "Iteration 43, the loss is 4.437298843729222, parameters k is 9.44320393459172 and b is -36.678180046739136\n",
      "Iteration 44, the loss is 4.437305837451247, parameters k is 9.445505397042313 and b is -36.67806146966404\n",
      "Iteration 45, the loss is 4.4372982247451755, parameters k is 9.443195634196464 and b is -36.67794289258894\n",
      "Iteration 46, the loss is 4.4373073926552005, parameters k is 9.445497096647056 and b is -36.67782431551384\n",
      "Iteration 47, the loss is 4.437297605761128, parameters k is 9.443187333801207 and b is -36.67770573843874\n",
      "Iteration 48, the loss is 4.437308947859158, parameters k is 9.4454887962518 and b is -36.67758716136364\n",
      "Iteration 49, the loss is 4.437296986777077, parameters k is 9.44317903340595 and b is -36.67746858428854\n",
      "Iteration 50, the loss is 4.43731050306312, parameters k is 9.445480495856543 and b is -36.67735000721344\n",
      "Iteration 51, the loss is 4.437296367793029, parameters k is 9.443170733010694 and b is -36.67723143013834\n",
      "Iteration 52, the loss is 4.437312058267067, parameters k is 9.445472195461287 and b is -36.67711285306324\n",
      "Iteration 53, the loss is 4.437295748808984, parameters k is 9.443162432615438 and b is -36.67699427598814\n",
      "Iteration 54, the loss is 4.437313613471028, parameters k is 9.44546389506603 and b is -36.676875698913044\n",
      "Iteration 55, the loss is 4.437295129824929, parameters k is 9.443154132220181 and b is -36.676757121837944\n",
      "Iteration 56, the loss is 4.437315168674985, parameters k is 9.445455594670774 and b is -36.676638544762845\n",
      "Iteration 57, the loss is 4.4372945108408794, parameters k is 9.443145831824925 and b is -36.676519967687746\n",
      "Iteration 58, the loss is 4.4373167238789355, parameters k is 9.445447294275517 and b is -36.67640139061265\n",
      "Iteration 59, the loss is 4.437293891856828, parameters k is 9.443137531429668 and b is -36.67628281353755\n",
      "Iteration 60, the loss is 4.437318279082897, parameters k is 9.445438993880261 and b is -36.67616423646245\n",
      "Iteration 61, the loss is 4.437293272872783, parameters k is 9.443129231034412 and b is -36.67604565938735\n",
      "Iteration 62, the loss is 4.437319834286847, parameters k is 9.445430693485005 and b is -36.67592708231225\n",
      "Iteration 63, the loss is 4.437292653888731, parameters k is 9.443120930639155 and b is -36.67580850523715\n",
      "Iteration 64, the loss is 4.437321389490805, parameters k is 9.445422393089748 and b is -36.67568992816205\n",
      "Iteration 65, the loss is 4.4372920349046785, parameters k is 9.443112630243899 and b is -36.67557135108695\n",
      "Iteration 66, the loss is 4.4373229446947615, parameters k is 9.445414092694492 and b is -36.67545277401185\n",
      "Iteration 67, the loss is 4.437291415920633, parameters k is 9.443104329848643 and b is -36.67533419693675\n",
      "Iteration 68, the loss is 4.437324499898716, parameters k is 9.445405792299235 and b is -36.67521561986165\n",
      "Iteration 69, the loss is 4.437290796936586, parameters k is 9.443096029453386 and b is -36.675097042786554\n",
      "Iteration 70, the loss is 4.43732605510267, parameters k is 9.445397491903979 and b is -36.674978465711455\n",
      "Iteration 71, the loss is 4.437290177952535, parameters k is 9.44308772905813 and b is -36.674859888636355\n",
      "Iteration 72, the loss is 4.437327610306631, parameters k is 9.445389191508722 and b is -36.674741311561256\n",
      "Iteration 73, the loss is 4.437289558968487, parameters k is 9.443079428662873 and b is -36.67462273448616\n",
      "Iteration 74, the loss is 4.437329165510584, parameters k is 9.445380891113466 and b is -36.67450415741106\n",
      "Iteration 75, the loss is 4.4372889399844375, parameters k is 9.443071128267617 and b is -36.67438558033596\n",
      "Iteration 76, the loss is 4.437330720714536, parameters k is 9.44537259071821 and b is -36.67426700326086\n",
      "Iteration 77, the loss is 4.43728832100039, parameters k is 9.44306282787236 and b is -36.67414842618576\n",
      "Iteration 78, the loss is 4.4373322759184965, parameters k is 9.445364290322953 and b is -36.67402984911066\n",
      "Iteration 79, the loss is 4.437287702016342, parameters k is 9.443054527477104 and b is -36.67391127203556\n",
      "Iteration 80, the loss is 4.437333831122455, parameters k is 9.445355989927696 and b is -36.67379269496046\n",
      "Iteration 81, the loss is 4.43728755412641, parameters k is 9.443046227081847 and b is -36.67367411788536\n",
      "Iteration 82, the loss is 4.437283978126461, parameters k is 9.444012274512678 and b is -36.67355554081026\n",
      "Iteration 83, the loss is 4.437337687506976, parameters k is 9.44170251166683 and b is -36.67343696373516\n",
      "Iteration 84, the loss is 4.437285533330421, parameters k is 9.444003974117422 and b is -36.673318386660064\n",
      "Iteration 85, the loss is 4.437337068522923, parameters k is 9.441694211271573 and b is -36.673199809584965\n",
      "Iteration 86, the loss is 4.437287088534381, parameters k is 9.443995673722165 and b is -36.673081232509865\n",
      "Iteration 87, the loss is 4.4373364495388765, parameters k is 9.441685910876316 and b is -36.672962655434766\n",
      "Iteration 88, the loss is 4.4372886437383325, parameters k is 9.443987373326909 and b is -36.67284407835967\n",
      "Iteration 89, the loss is 4.437335830554827, parameters k is 9.44167761048106 and b is -36.67272550128457\n",
      "Iteration 90, the loss is 4.4372901989422875, parameters k is 9.443979072931652 and b is -36.67260692420947\n",
      "Iteration 91, the loss is 4.437335211570776, parameters k is 9.441669310085803 and b is -36.67248834713437\n",
      "Iteration 92, the loss is 4.43729175414624, parameters k is 9.443970772536396 and b is -36.67236977005927\n",
      "Iteration 93, the loss is 4.437334592586729, parameters k is 9.441661009690547 and b is -36.67225119298417\n",
      "Iteration 94, the loss is 4.437293309350197, parameters k is 9.44396247214114 and b is -36.67213261590907\n",
      "Iteration 95, the loss is 4.437333973602679, parameters k is 9.44165270929529 and b is -36.67201403883397\n",
      "Iteration 96, the loss is 4.4372948645541515, parameters k is 9.443954171745883 and b is -36.67189546175887\n",
      "Iteration 97, the loss is 4.437333354618634, parameters k is 9.441644408900034 and b is -36.67177688468377\n",
      "Iteration 98, the loss is 4.437296419758111, parameters k is 9.443945871350627 and b is -36.67165830760867\n",
      "Iteration 99, the loss is 4.437332735634584, parameters k is 9.441636108504778 and b is -36.671539730533574\n",
      "Iteration 100, the loss is 4.437297974962065, parameters k is 9.44393757095537 and b is -36.671421153458475\n",
      "Iteration 101, the loss is 4.437332116650531, parameters k is 9.441627808109521 and b is -36.671302576383376\n",
      "Iteration 102, the loss is 4.4372995301660225, parameters k is 9.443929270560114 and b is -36.671183999308276\n",
      "Iteration 103, the loss is 4.437331497666481, parameters k is 9.441619507714265 and b is -36.67106542223318\n",
      "Iteration 104, the loss is 4.437301085369975, parameters k is 9.443920970164857 and b is -36.67094684515808\n",
      "Iteration 105, the loss is 4.437330878682433, parameters k is 9.441611207319008 and b is -36.67082826808298\n",
      "Iteration 106, the loss is 4.437302640573935, parameters k is 9.4439126697696 and b is -36.67070969100788\n",
      "Iteration 107, the loss is 4.437330259698389, parameters k is 9.441602906923752 and b is -36.67059111393278\n",
      "Iteration 108, the loss is 4.437304195777888, parameters k is 9.443904369374344 and b is -36.67047253685768\n",
      "Iteration 109, the loss is 4.437329640714334, parameters k is 9.441594606528495 and b is -36.67035395978258\n",
      "Iteration 110, the loss is 4.437305750981846, parameters k is 9.443896068979088 and b is -36.67023538270748\n",
      "Iteration 111, the loss is 4.4373290217302905, parameters k is 9.441586306133239 and b is -36.67011680563238\n",
      "Iteration 112, the loss is 4.437307306185802, parameters k is 9.443887768583831 and b is -36.66999822855728\n",
      "Iteration 113, the loss is 4.437328402746236, parameters k is 9.441578005737982 and b is -36.669879651482184\n",
      "Iteration 114, the loss is 4.437308861389755, parameters k is 9.443879468188575 and b is -36.669761074407084\n",
      "Iteration 115, the loss is 4.437327783762189, parameters k is 9.441569705342726 and b is -36.669642497331985\n",
      "Iteration 116, the loss is 4.437310416593713, parameters k is 9.443871167793318 and b is -36.669523920256886\n",
      "Iteration 117, the loss is 4.43732716477814, parameters k is 9.44156140494747 and b is -36.669405343181786\n",
      "Iteration 118, the loss is 4.437311971797668, parameters k is 9.443862867398062 and b is -36.66928676610669\n",
      "Iteration 119, the loss is 4.4373265457940905, parameters k is 9.441553104552213 and b is -36.66916818903159\n",
      "Iteration 120, the loss is 4.437313527001627, parameters k is 9.443854567002806 and b is -36.66904961195649\n",
      "Iteration 121, the loss is 4.437325926810041, parameters k is 9.441544804156957 and b is -36.66893103488139\n",
      "Iteration 122, the loss is 4.437315082205578, parameters k is 9.443846266607549 and b is -36.66881245780629\n",
      "Iteration 123, the loss is 4.437325307825991, parameters k is 9.4415365037617 and b is -36.66869388073119\n",
      "Iteration 124, the loss is 4.437316637409539, parameters k is 9.443837966212293 and b is -36.66857530365609\n",
      "Iteration 125, the loss is 4.437324688841939, parameters k is 9.441528203366444 and b is -36.66845672658099\n",
      "Iteration 126, the loss is 4.437318192613488, parameters k is 9.443829665817036 and b is -36.66833814950589\n",
      "Iteration 127, the loss is 4.437324069857896, parameters k is 9.441519902971187 and b is -36.66821957243079\n",
      "Iteration 128, the loss is 4.437319747817447, parameters k is 9.44382136542178 and b is -36.668100995355694\n",
      "Iteration 129, the loss is 4.4373234508738415, parameters k is 9.44151160257593 and b is -36.667982418280594\n",
      "Iteration 130, the loss is 4.4373213030214025, parameters k is 9.443813065026523 and b is -36.667863841205495\n",
      "Iteration 131, the loss is 4.437322831889794, parameters k is 9.441503302180674 and b is -36.667745264130396\n",
      "Iteration 132, the loss is 4.437322858225356, parameters k is 9.443804764631267 and b is -36.6676266870553\n",
      "Iteration 133, the loss is 4.4373222129057455, parameters k is 9.441495001785418 and b is -36.6675081099802\n",
      "Iteration 134, the loss is 4.437324413429311, parameters k is 9.44379646423601 and b is -36.6673895329051\n",
      "Iteration 135, the loss is 4.437321593921692, parameters k is 9.441486701390161 and b is -36.66727095583\n",
      "Iteration 136, the loss is 4.437325968633271, parameters k is 9.443788163840754 and b is -36.6671523787549\n",
      "Iteration 137, the loss is 4.437320974937644, parameters k is 9.441478400994905 and b is -36.6670338016798\n",
      "Iteration 138, the loss is 4.437327523837224, parameters k is 9.443779863445497 and b is -36.6669152246047\n",
      "Iteration 139, the loss is 4.437320355953594, parameters k is 9.441470100599648 and b is -36.6667966475296\n",
      "Iteration 140, the loss is 4.43732907904118, parameters k is 9.443771563050241 and b is -36.6666780704545\n",
      "Iteration 141, the loss is 4.437319736969549, parameters k is 9.441461800204392 and b is -36.6665594933794\n",
      "Iteration 142, the loss is 4.437330634245136, parameters k is 9.443763262654985 and b is -36.6664409163043\n",
      "Iteration 143, the loss is 4.437319117985502, parameters k is 9.441453499809136 and b is -36.666322339229204\n"
     ]
    },
    {
     "name": "stdout",
     "output_type": "stream",
     "text": [
      "Iteration 144, the loss is 4.43733218944909, parameters k is 9.443754962259728 and b is -36.666203762154105\n",
      "Iteration 145, the loss is 4.437318499001449, parameters k is 9.441445199413879 and b is -36.666085185079005\n",
      "Iteration 146, the loss is 4.437333744653047, parameters k is 9.443746661864472 and b is -36.665966608003906\n",
      "Iteration 147, the loss is 4.437317880017403, parameters k is 9.441436899018623 and b is -36.66584803092881\n",
      "Iteration 148, the loss is 4.437335299857006, parameters k is 9.443738361469215 and b is -36.66572945385371\n",
      "Iteration 149, the loss is 4.4373172610333524, parameters k is 9.441428598623366 and b is -36.66561087677861\n",
      "Iteration 150, the loss is 4.437336855060962, parameters k is 9.443730061073959 and b is -36.66549229970351\n",
      "Iteration 151, the loss is 4.4373166420493035, parameters k is 9.44142029822811 and b is -36.66537372262841\n",
      "Iteration 152, the loss is 4.437338410264919, parameters k is 9.443721760678702 and b is -36.66525514555331\n",
      "Iteration 153, the loss is 4.437316023065253, parameters k is 9.441411997832853 and b is -36.66513656847821\n",
      "Iteration 154, the loss is 4.43733996546887, parameters k is 9.443713460283446 and b is -36.66501799140311\n",
      "Iteration 155, the loss is 4.437315404081201, parameters k is 9.441403697437597 and b is -36.66489941432801\n",
      "Iteration 156, the loss is 4.437341520672827, parameters k is 9.44370515988819 and b is -36.66478083725291\n",
      "Iteration 157, the loss is 4.437314785097155, parameters k is 9.44139539704234 and b is -36.66466226017781\n",
      "Iteration 158, the loss is 4.437343075876779, parameters k is 9.443696859492933 and b is -36.664543683102714\n",
      "Iteration 159, the loss is 4.437314267437977, parameters k is 9.441387096647084 and b is -36.664425106027615\n",
      "Iteration 160, the loss is 4.437301310627415, parameters k is 9.442353144077915 and b is -36.664306528952515\n",
      "Iteration 161, the loss is 4.4373075700182385, parameters k is 9.441803065026532 and b is -36.664187951877416\n",
      "Iteration 162, the loss is 4.437311110755626, parameters k is 9.442769112457363 and b is -36.66406937480232\n",
      "Iteration 163, the loss is 4.437347877626178, parameters k is 9.440459349611514 and b is -36.66395079772722\n",
      "Iteration 164, the loss is 4.437312665959587, parameters k is 9.442760812062106 and b is -36.66383222065212\n",
      "Iteration 165, the loss is 4.437347258642128, parameters k is 9.440451049216257 and b is -36.66371364357702\n",
      "Iteration 166, the loss is 4.437314221163534, parameters k is 9.44275251166685 and b is -36.66359506650192\n",
      "Iteration 167, the loss is 4.437346639658077, parameters k is 9.440442748821 and b is -36.66347648942682\n",
      "Iteration 168, the loss is 4.437315776367496, parameters k is 9.442744211271593 and b is -36.66335791235172\n",
      "Iteration 169, the loss is 4.437346020674033, parameters k is 9.440434448425744 and b is -36.66323933527662\n",
      "Iteration 170, the loss is 4.437317331571448, parameters k is 9.442735910876337 and b is -36.66312075820152\n",
      "Iteration 171, the loss is 4.437345401689976, parameters k is 9.440426148030488 and b is -36.66300218112642\n",
      "Iteration 172, the loss is 4.437318886775407, parameters k is 9.44272761048108 and b is -36.66288360405132\n",
      "Iteration 173, the loss is 4.4373447827059325, parameters k is 9.440417847635231 and b is -36.662765026976224\n",
      "Iteration 174, the loss is 4.43732044197936, parameters k is 9.442719310085824 and b is -36.662646449901125\n",
      "Iteration 175, the loss is 4.437344163721881, parameters k is 9.440409547239975 and b is -36.662527872826026\n",
      "Iteration 176, the loss is 4.4373219971833135, parameters k is 9.442711009690568 and b is -36.662409295750926\n",
      "Iteration 177, the loss is 4.437343544737834, parameters k is 9.440401246844718 and b is -36.66229071867583\n",
      "Iteration 178, the loss is 4.437323552387271, parameters k is 9.442702709295311 and b is -36.66217214160073\n",
      "Iteration 179, the loss is 4.437342925753783, parameters k is 9.440392946449462 and b is -36.66205356452563\n",
      "Iteration 180, the loss is 4.437325107591234, parameters k is 9.442694408900055 and b is -36.66193498745053\n",
      "Iteration 181, the loss is 4.437342306769731, parameters k is 9.440384646054206 and b is -36.66181641037543\n",
      "Iteration 182, the loss is 4.437326662795185, parameters k is 9.442686108504798 and b is -36.66169783330033\n",
      "Iteration 183, the loss is 4.437341687785683, parameters k is 9.44037634565895 and b is -36.66157925622523\n",
      "Iteration 184, the loss is 4.43732821799914, parameters k is 9.442677808109542 and b is -36.66146067915013\n",
      "Iteration 185, the loss is 4.43734106880163, parameters k is 9.440368045263693 and b is -36.66134210207503\n",
      "Iteration 186, the loss is 4.4373297732031025, parameters k is 9.442669507714285 and b is -36.66122352499993\n",
      "Iteration 187, the loss is 4.437340449817583, parameters k is 9.440359744868436 and b is -36.661104947924834\n",
      "Iteration 188, the loss is 4.437331328407057, parameters k is 9.442661207319029 and b is -36.660986370849734\n",
      "Iteration 189, the loss is 4.437339830833535, parameters k is 9.44035144447318 and b is -36.660867793774635\n",
      "Iteration 190, the loss is 4.437332883611006, parameters k is 9.442652906923772 and b is -36.660749216699536\n",
      "Iteration 191, the loss is 4.437339211849479, parameters k is 9.440343144077923 and b is -36.660630639624436\n",
      "Iteration 192, the loss is 4.437334438814969, parameters k is 9.442644606528516 and b is -36.66051206254934\n",
      "Iteration 193, the loss is 4.437338592865439, parameters k is 9.440334843682667 and b is -36.66039348547424\n",
      "Iteration 194, the loss is 4.4373359940189205, parameters k is 9.44263630613326 and b is -36.66027490839914\n",
      "Iteration 195, the loss is 4.437337973881392, parameters k is 9.44032654328741 and b is -36.66015633132404\n",
      "Iteration 196, the loss is 4.437337549222876, parameters k is 9.442628005738003 and b is -36.66003775424894\n",
      "Iteration 197, the loss is 4.437337354897339, parameters k is 9.440318242892154 and b is -36.65991917717384\n",
      "Iteration 198, the loss is 4.437339104426834, parameters k is 9.442619705342747 and b is -36.65980060009874\n",
      "Iteration 199, the loss is 4.43733673591329, parameters k is 9.440309942496897 and b is -36.65968202302364\n"
     ]
    }
   ],
   "source": [
    "#initialized parameters\n",
    "#k = random.random() * 10 - 5   我试了*10 - 5，这个效果并不好\n",
    "k = random.random() * 100 - 50  #随手加了两个0后结果就相对不错了\n",
    "b = random.random() * 100 - 50  \n",
    "\n",
    "learning_rate = 0.06\n",
    "\n",
    "iteration_num = 200\n",
    "losses = []\n",
    "for i in range(iteration_num):\n",
    "    \n",
    "    price_use_current_parameters = [price(r, k, b) for r in X_rm]  # \\hat{y}\n",
    "    #print (price_use_current_parameters)\n",
    "    current_loss = loss(y, price_use_current_parameters)\n",
    "    losses.append(current_loss)\n",
    "    print(\"Iteration {}, the loss is {}, parameters k is {} and b is {}\".format(i,current_loss,k,b))\n",
    "    \n",
    "    k_gradient = partial_derivative_k( X_rm,y, price_use_current_parameters)\n",
    "    #print (k_gradient)\n",
    "    b_gradient = partial_derivative_b(y, price_use_current_parameters)\n",
    "    \n",
    "    k = k +  k_gradient * learning_rate\n",
    "    b = b +  b_gradient * learning_rate\n",
    "best_k = k\n",
    "best_b = b"
   ]
  },
  {
   "cell_type": "code",
   "execution_count": 49,
   "metadata": {},
   "outputs": [
    {
     "data": {
      "text/plain": [
       "[<matplotlib.lines.Line2D at 0x294704429b0>]"
      ]
     },
     "execution_count": 49,
     "metadata": {},
     "output_type": "execute_result"
    },
    {
     "data": {
      "image/png": "[encoded data removed]",
      "text/plain": [
       "<Figure size 432x288 with 1 Axes>"
      ]
     },
     "metadata": {
      "needs_background": "light"
     },
     "output_type": "display_data"
    }
   ],
   "source": [
    "plt.plot(list(range(iteration_num)),losses)"
   ]
  },
  {
   "cell_type": "code",
   "execution_count": 50,
   "metadata": {},
   "outputs": [
    {
     "data": {
      "text/plain": [
       "<matplotlib.collections.PathCollection at 0x294704ac7f0>"
      ]
     },
     "execution_count": 50,
     "metadata": {},
     "output_type": "execute_result"
    },
    {
     "data": {
      "image/png": "[encoded data removed]",
      "text/plain": [
       "<Figure size 432x288 with 1 Axes>"
      ]
     },
     "metadata": {
      "needs_background": "light"
     },
     "output_type": "display_data"
    }
   ],
   "source": [
    "price_use_best_parameters = [price(r, best_k, best_b) for r in X_rm]\n",
    "\n",
    "plt.scatter(X_rm,y)\n",
    "plt.scatter(X_rm,price_use_current_parameters)"
   ]
  },
  {
   "cell_type": "markdown",
   "metadata": {},
   "source": [
    "<评阅点>\n",
    "+ 是否将Loss改成了“绝对值”(3')\n",
    "+ 是否完成了偏导的重新定义(5')\n",
    "+ 新的模型Loss是否能够收敛 (11’)"
   ]
  },
  {
   "cell_type": "markdown",
   "metadata": {},
   "source": []
  }
 ],
 "metadata": {
  "kernelspec": {
   "display_name": "Python 3",
   "language": "python",
   "name": "python3"
  },
  "language_info": {
   "codemirror_mode": {
    "name": "ipython",
    "version": 3
   },
   "file_extension": ".py",
   "mimetype": "text/x-python",
   "name": "python",
   "nbconvert_exporter": "python",
   "pygments_lexer": "ipython3",
   "version": "3.7.0"
  }
 },
 "nbformat": 4,
 "nbformat_minor": 2
}
