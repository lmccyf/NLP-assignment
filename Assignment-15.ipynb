{
 "cells": [
  {
   "cell_type": "markdown",
   "metadata": {},
   "source": [
    "#### 1.What’s the relationship of  word embedding and multi-task learning? "
   ]
  },
  {
   "cell_type": "markdown",
   "metadata": {},
   "source": [
    "Ans: word embedding先提取文本特征，将文本变成词向量，之后进行微调，将词向量应用于多任务学习中。"
   ]
  },
  {
   "cell_type": "markdown",
   "metadata": {},
   "source": [
    "#### 2.Why do we need some super tasks  to make multi-task learning possible? "
   ]
  },
  {
   "cell_type": "markdown",
   "metadata": {},
   "source": [
    "Ans:3个super tasks（语言模型、问答、对话）判断语义，语法和逻辑是否合适，做好这些是实现多任务学习的基础。"
   ]
  },
  {
   "cell_type": "markdown",
   "metadata": {},
   "source": [
    "#### 3.Why is transfer learning in NLP harder than Computer Vision?"
   ]
  },
  {
   "cell_type": "markdown",
   "metadata": {},
   "source": [
    "Ans:CV场景比较相近，比如先识别线条颜色，再识别材质，目标物体，然后分类；但是NLP获得词向量后很难做边缘检测。"
   ]
  },
  {
   "cell_type": "markdown",
   "metadata": {},
   "source": [
    "#### 4.What’s the reinforcement learning, and the differences compared to Supervised learning? "
   ]
  },
  {
   "cell_type": "markdown",
   "metadata": {},
   "source": [
    "Ans:监督学习：计算模型给出的结果与实际结果的loss并反向传播不断优化；强化学习：每一步都在做决策，但是并不知道下一步的结果，强调如何基于环境而行动，以取得最大化的预期利益。强化学习来和监督学习最大的区别是它是没有监督学习已经准备好的训练数据输出值的。强化学习只有奖励值，但是这个奖励值和监督学习的输出值不一样，它不是事先给出的，而是延后给出的，比如上面的例子里走路摔倒了才得到大脑的奖励值。同时，强化学习的每一步与时间顺序前后关系紧密。而监督学习的训练数据之间一般都是独立的，没有这种前后的依赖关系"
   ]
  },
  {
   "cell_type": "markdown",
   "metadata": {},
   "source": [
    "#### 5.What’s Graph Neural Network? Note the similarity of word-2-vec"
   ]
  },
  {
   "cell_type": "markdown",
   "metadata": {},
   "source": [
    "GNN是一种作用在图像领域的深度学习方法。与word2vec相似处：word2vec的训练方式（原文采用SkipGram）是通过中心词（target）预测窗口内的词（context），GNN与其相似，graph embedding的求解框架为：(1) 定义中心节点的邻域及采样方法；(2) 设计(target, neighbors)的embedding模型"
   ]
  },
  {
   "cell_type": "markdown",
   "metadata": {},
   "source": [
    "#### 6.What’s the semi-supervised learning and activate learning? "
   ]
  },
  {
   "cell_type": "markdown",
   "metadata": {},
   "source": [
    "半监督学习是一种机器学习任务和技术，它利用未标记的数据进行训练，这些数据通常是带有大量未标记数据和少量标记数据。可先利用未标记数据聚类，在此基础上用标记数据拟合函数模型；或者基于少量标记数据先拟合一个模型，之后再进行聚类。\n",
    "\n",
    "主动学习：从一些未标记数据中自动挑一些数据标注，每标注一次，模型重新或者增量的训练一次，重复此步骤。减少标注数据的成本，用很少的数据来训练出高效的模型，是主动学习最大的优势。"
   ]
  },
  {
   "cell_type": "markdown",
   "metadata": {},
   "source": [
    "#### 7.What’s the problems when AI models became bigger and bigger?"
   ]
  },
  {
   "cell_type": "markdown",
   "metadata": {},
   "source": [
    "竞争壁垒很高，只有大实验室才能跑且耗费资源，圈子封闭，解决不了实际问题。"
   ]
  },
  {
   "cell_type": "markdown",
   "metadata": {},
   "source": [
    "#### 8.Please give some scenarios about Adversarial Attacking Examples."
   ]
  },
  {
   "cell_type": "markdown",
   "metadata": {},
   "source": [
    "Ans:Alex可能会受到其他声音干扰从而产生意外订单；Siri也可能会在非主人呼唤的情况下被某些声音启动。"
   ]
  },
  {
   "cell_type": "markdown",
   "metadata": {},
   "source": [
    "#### 9.Why is common sense reasoning  so hard? "
   ]
  },
  {
   "cell_type": "markdown",
   "metadata": {},
   "source": [
    "现实生活中的常识很多且很难形容，每个人对常识也是仁者见仁智者见智，所以很多基于常识的问题很难做。"
   ]
  },
  {
   "cell_type": "markdown",
   "metadata": {},
   "source": [
    "#### 10.如果你要选择一个细分进行持续研究，你对哪个方面感兴趣？为什么？"
   ]
  },
  {
   "cell_type": "markdown",
   "metadata": {},
   "source": [
    "强化学习，应有领域广泛且有发展空间，可以泛化到日常生活中解决实际问题。"
   ]
  }
 ],
 "metadata": {
  "kernelspec": {
   "display_name": "Python 3",
   "language": "python",
   "name": "python3"
  },
  "language_info": {
   "codemirror_mode": {
    "name": "ipython",
    "version": 3
   },
   "file_extension": ".py",
   "mimetype": "text/x-python",
   "name": "python",
   "nbconvert_exporter": "python",
   "pygments_lexer": "ipython3",
   "version": "3.6.2"
  }
 },
 "nbformat": 4,
 "nbformat_minor": 2
}
